{
 "cells": [
  {
   "cell_type": "code",
   "execution_count": 1,
   "id": "7c640e56-9127-49cb-8399-f30704df2fbf",
   "metadata": {},
   "outputs": [],
   "source": [
    "import (\n",
    "    \"fmt\"\n",
    "    \"log\"\n",
    "    \"os\"\n",
    ")\n",
    "\n",
    "type FooReader struct{}\n",
    "\n",
    "func (fooReader *FooReader) Read(b []byte) (int, error) {\n",
    "    fmt.Print(\"in > \")\n",
    "    return os.Stdin.Read(b)\n",
    "}\n",
    "\n",
    "type FooWriter struct{}\n",
    "\n",
    "func (fooWriter *FooWriter) Write(b []byte) (int, error) {\n",
    "    fmt.Print(\"out > \")\n",
    "    return os.Stdout.Write(b)\n",
    "}\n",
    "\n",
    "func main() {\n",
    "    var (\n",
    "        reader FooReader\n",
    "        writer FooWriter\n",
    "    )\n",
    "}"
   ]
  },
  {
   "cell_type": "code",
   "execution_count": null,
   "id": "a2eb3ba0-fed1-4da3-be30-d4558a70a2f7",
   "metadata": {},
   "outputs": [],
   "source": []
  }
 ],
 "metadata": {
  "kernelspec": {
   "display_name": "Go",
   "language": "go",
   "name": "gophernotes"
  },
  "language_info": {
   "codemirror_mode": "",
   "file_extension": ".go",
   "mimetype": "",
   "name": "go",
   "nbconvert_exporter": "",
   "pygments_lexer": "",
   "version": "go1.14.7"
  }
 },
 "nbformat": 4,
 "nbformat_minor": 5
}
