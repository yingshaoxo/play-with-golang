{
 "cells": [
  {
   "cell_type": "code",
   "execution_count": 30,
   "metadata": {},
   "outputs": [],
   "source": [
    "import (\n",
    "    \"time\"\n",
    "    \"fmt\"\n",
    ")\n",
    "\n",
    "var s1, s2 string = \"\", \"\"\n",
    "\n",
    "func sayIt() {\n",
    "    time.Sleep(2000 * time.Millisecond)\n",
    "    s1 = \"I love you, baby.\"\n",
    "}\n",
    "\n",
    "func sayItPlease() {\n",
    "    time.Sleep(1000 * time.Millisecond)\n",
    "    s2 = \"I love you, too, bady.\"\n",
    "}"
   ]
  },
  {
   "cell_type": "code",
   "execution_count": 31,
   "metadata": {},
   "outputs": [
    {
     "name": "stdout",
     "output_type": "stream",
     "text": [
      "I love you, too, bady.\n"
     ]
    }
   ],
   "source": [
    "go sayIt()\n",
    "go sayItPlease()\n",
    "\n",
    "for s1==\"\" || s2==\"\" {\n",
    "    if s1 != \"\" {\n",
    "        fmt.Println(s1)\n",
    "        break\n",
    "    }\n",
    "    if s2 != \"\" {\n",
    "        fmt.Println(s2)\n",
    "        break\n",
    "    }\n",
    "}"
   ]
  },
  {
   "cell_type": "markdown",
   "metadata": {},
   "source": [
    "It's amazing to see that goroutines(threading in go) could share variables between functions."
   ]
  },
  {
   "cell_type": "code",
   "execution_count": null,
   "metadata": {},
   "outputs": [],
   "source": []
  }
 ],
 "metadata": {
  "kernelspec": {
   "display_name": "Go",
   "language": "go",
   "name": "gophernotes"
  },
  "language_info": {
   "codemirror_mode": "",
   "file_extension": ".go",
   "mimetype": "",
   "name": "go",
   "nbconvert_exporter": "",
   "pygments_lexer": "",
   "version": "go1.15.4"
  }
 },
 "nbformat": 4,
 "nbformat_minor": 4
}
