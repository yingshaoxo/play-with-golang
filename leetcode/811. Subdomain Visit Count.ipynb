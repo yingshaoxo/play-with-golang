{
 "cells": [
  {
   "cell_type": "markdown",
   "id": "powerful-visiting",
   "metadata": {},
   "source": [
    "https://leetcode.com/problems/subdomain-visit-count\n",
    "\n",
    "\n",
    "Runtime: 8 ms, faster than 86.84% of Go online submissions for Subdomain Visit Count.\n",
    "Memory Usage: 6.1 MB, less than 9.21% of Go online submissions for Subdomain Visit Count.\n",
    "\n",
    "\n",
    "```go\n",
    "package main\n",
    "\n",
    "import (\n",
    "\t\"fmt\"\n",
    "\t\"strconv\"\n",
    "\t\"strings\"\n",
    ")\n",
    "\n",
    "func subdomainVisits(cpdomains []string) []string {\n",
    "\t//6:40\n",
    "\tglobal_counter := make(map[string]int)\n",
    "\tfor _, each_one := range cpdomains {\n",
    "\t\tcount_and_domain := strings.Split(each_one, \" \")\n",
    "\t\tcount, _ := strconv.Atoi(count_and_domain[0])\n",
    "\t\tdomain := count_and_domain[1]\n",
    "\t\tparts := strings.Split(domain, \".\")\n",
    "\t\tsubdomains := make([]string, 0)\n",
    "\t\tfor index, _ := range parts {\n",
    "\t\t\tsubdomains = append(subdomains, strings.Join(parts[index:], \".\"))\n",
    "\t\t}\n",
    "\t\tfor _, subdomain := range subdomains {\n",
    "\t\t\t_, ok := global_counter[subdomain]\n",
    "\t\t\tif ok {\n",
    "\t\t\t\tglobal_counter[subdomain] += count\n",
    "\t\t\t} else {\n",
    "\t\t\t\tglobal_counter[subdomain] = count\n",
    "\t\t\t}\n",
    "\t\t}\n",
    "\t}\n",
    "\tresults := make([]string, 0)\n",
    "\tfor key, element := range global_counter {\n",
    "\t\tarr := [2]string{strconv.Itoa(element), key}\n",
    "\t\tresults = append(results, strings.Join(arr[:], \" \"))\n",
    "\t}\n",
    "\treturn results\n",
    "\t//6:58\n",
    "}\n",
    "```"
   ]
  },
  {
   "cell_type": "code",
   "execution_count": null,
   "id": "usual-triumph",
   "metadata": {},
   "outputs": [],
   "source": []
  }
 ],
 "metadata": {
  "kernelspec": {
   "display_name": "Go",
   "language": "go",
   "name": "gophernotes"
  },
  "language_info": {
   "codemirror_mode": "",
   "file_extension": ".go",
   "mimetype": "",
   "name": "go",
   "nbconvert_exporter": "",
   "pygments_lexer": "",
   "version": "go1.15.4"
  }
 },
 "nbformat": 4,
 "nbformat_minor": 5
}
