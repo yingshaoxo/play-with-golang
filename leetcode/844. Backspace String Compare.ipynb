{
 "cells": [
  {
   "cell_type": "markdown",
   "metadata": {},
   "source": [
    "https://leetcode.com/problems/backspace-string-compare\n",
    "\n",
    "\n",
    "\n",
    "Runtime: 0 ms, faster than 100.00% of Go online submissions for Backspace String Compare.\n",
    "Memory Usage: 2.2 MB, less than 8.06% of Go online submissions for Backspace String Compare.\n",
    "\n",
    "\n",
    "\n",
    "```go\n",
    "package main\n",
    "\n",
    "import (\n",
    "\t\"strings\"\n",
    ")\n",
    "\n",
    "func inputBox(S string) string {\n",
    "\tr := make([]string, 0)\n",
    "\tfor i := 0; i < len(S); i++ {\n",
    "\t\tc := S[i : i+1]\n",
    "\t\tif c == \"#\" {\n",
    "\t\t\tif len(r) > 0 {\n",
    "\t\t\t\tr = r[:len(r)-1]\n",
    "\t\t\t}\n",
    "\t\t} else {\n",
    "\t\t\tr = append(r, c)\n",
    "\t\t}\n",
    "\t}\n",
    "\treturn strings.Join(r, \"\")\n",
    "}\n",
    "\n",
    "func backspaceCompare(S string, T string) bool {\n",
    "\t//println(inputBox((S)))\n",
    "\t//println(inputBox((T)))\n",
    "\treturn inputBox(S) == inputBox(T)\n",
    "}\n",
    "\n",
    "func main() {\n",
    "\tr := backspaceCompare(\"a#bc\", \"b#ca\")\n",
    "\tprintln(r)\n",
    "}\n",
    "\n",
    "```"
   ]
  },
  {
   "cell_type": "code",
   "execution_count": null,
   "metadata": {},
   "outputs": [],
   "source": []
  }
 ],
 "metadata": {
  "kernelspec": {
   "display_name": "Go",
   "language": "go",
   "name": "gophernotes"
  },
  "language_info": {
   "codemirror_mode": "",
   "file_extension": ".go",
   "mimetype": "",
   "name": "go",
   "nbconvert_exporter": "",
   "pygments_lexer": "",
   "version": "go1.15.4"
  }
 },
 "nbformat": 4,
 "nbformat_minor": 4
}
