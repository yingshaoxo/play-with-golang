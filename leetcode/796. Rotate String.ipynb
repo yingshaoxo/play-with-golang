{
 "cells": [
  {
   "cell_type": "markdown",
   "metadata": {},
   "source": [
    "https://leetcode.com/problems/rotate-string\n",
    "\n",
    "\n",
    "\n",
    "Runtime: 0 ms, faster than 100.00% of Go online submissions for Rotate String.\n",
    "Memory Usage: 2.1 MB, less than 22.64% of Go online submissions for Rotate String.\n",
    "\n",
    "\n",
    "\n",
    "```go\n",
    "package main\n",
    "\n",
    "func rotateString(A string, B string) bool {\n",
    "\tif (A == \"\") && (B == \"\") {\n",
    "\t\treturn true\n",
    "\t}\n",
    "\tif len(A) != len(B) {\n",
    "\t\treturn false\n",
    "\t}\n",
    "\n",
    "\tfor i := 0; i <= len(A); i++ {\n",
    "\t\tA = A[1:len(A)] + A[0:1]\n",
    "\t\tif A == B {\n",
    "\t\t\treturn true\n",
    "\t\t}\n",
    "\t}\n",
    "\treturn false\n",
    "}\n",
    "\n",
    "func main() {\n",
    "\tr := rotateString(\"abc\", \"bca\")\n",
    "\tprintln(r)\n",
    "}\n",
    "```\n",
    "\n",
    "\n",
    "Spent 5 minutes\n",
    "\n",
    "Two shoot"
   ]
  },
  {
   "cell_type": "code",
   "execution_count": null,
   "metadata": {},
   "outputs": [],
   "source": []
  }
 ],
 "metadata": {
  "kernelspec": {
   "display_name": "Go",
   "language": "go",
   "name": "gophernotes"
  },
  "language_info": {
   "codemirror_mode": "",
   "file_extension": ".go",
   "mimetype": "",
   "name": "go",
   "nbconvert_exporter": "",
   "pygments_lexer": "",
   "version": "go1.15.4"
  }
 },
 "nbformat": 4,
 "nbformat_minor": 4
}
