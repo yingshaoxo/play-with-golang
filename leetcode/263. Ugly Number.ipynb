{
 "cells": [
  {
   "cell_type": "markdown",
   "id": "771530e7-094e-43a3-a63f-b551cc3e299d",
   "metadata": {},
   "source": [
    "https://leetcode.com/problems/ugly-number/\n",
    "\n",
    "\n",
    "Runtime: 4 ms, faster than 37.84% of Go online submissions for Ugly Number.\n",
    "Memory Usage: 2.1 MB, less than 58.11% of Go online submissions for Ugly Number.\n",
    "\n",
    "\n",
    "```go\n",
    "\n",
    "package main\n",
    "\n",
    "func divition(n float64) bool {\n",
    "\tif n == 0 {\n",
    "\t\treturn false\n",
    "\t}\n",
    "\n",
    "\tif n != float64(int64(n)) {\n",
    "\t\treturn false\n",
    "\t}\n",
    "\n",
    "\tif n == 1 || n == 2 || n == 3 || n == 5 {\n",
    "\t\treturn true\n",
    "\t} else {\n",
    "\t\treturn divition(n/2) || divition(n/3) || divition(n/5)\n",
    "\t}\n",
    "}\n",
    "\n",
    "func isUgly(n int) bool {\n",
    "\t//7:10\n",
    "\treturn divition(float64(n))\n",
    "\t//7:14\n",
    "}\n",
    "```"
   ]
  },
  {
   "cell_type": "code",
   "execution_count": null,
   "id": "c68330e3-4ac2-4f0d-88b6-86b449b02133",
   "metadata": {},
   "outputs": [],
   "source": []
  }
 ],
 "metadata": {
  "kernelspec": {
   "display_name": "Go",
   "language": "go",
   "name": "gophernotes"
  },
  "language_info": {
   "codemirror_mode": "",
   "file_extension": ".go",
   "mimetype": "",
   "name": "go",
   "nbconvert_exporter": "",
   "pygments_lexer": "",
   "version": "go1.14.7"
  }
 },
 "nbformat": 4,
 "nbformat_minor": 5
}
