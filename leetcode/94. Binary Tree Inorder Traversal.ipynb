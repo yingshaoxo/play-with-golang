{
 "cells": [
  {
   "cell_type": "markdown",
   "id": "ade5a436-d042-42b2-8efb-dbf0b2b54f7a",
   "metadata": {},
   "source": [
    "https://leetcode.com/problems/binary-tree-inorder-traversal/\n",
    "\n",
    "\n",
    "Runtime: 0 ms, faster than 100.00% of Go online submissions for Binary Tree Inorder Traversal.\n",
    "Memory Usage: 2.1 MB, less than 76.26% of Go online submissions for Binary Tree Inorder Traversal.\n",
    "\n",
    "\n",
    "\n",
    "```go\n",
    "var l = make([]int, 0)\n",
    "\n",
    "func travel(node *TreeNode) {\n",
    "\tif node != nil {\n",
    "\t\ttravel(node.Left)\n",
    "\t\tl = append(l, node.Val)\n",
    "\t\ttravel(node.Right)\n",
    "\t}\n",
    "}\n",
    "\n",
    "func inorderTraversal(root *TreeNode) []int {\n",
    "\t//7:19\n",
    "\tl = l[:0]\n",
    "\ttravel(root)\n",
    "\treturn l\n",
    "\t//7:20\n",
    "}\n",
    "```"
   ]
  },
  {
   "cell_type": "code",
   "execution_count": null,
   "id": "f9b4b951-b521-4554-a7f5-ad7eb2b0e384",
   "metadata": {},
   "outputs": [],
   "source": []
  }
 ],
 "metadata": {
  "kernelspec": {
   "display_name": "Go",
   "language": "go",
   "name": "gophernotes"
  },
  "language_info": {
   "codemirror_mode": "",
   "file_extension": ".go",
   "mimetype": "",
   "name": "go",
   "nbconvert_exporter": "",
   "pygments_lexer": "",
   "version": "go1.14.7"
  }
 },
 "nbformat": 4,
 "nbformat_minor": 5
}
