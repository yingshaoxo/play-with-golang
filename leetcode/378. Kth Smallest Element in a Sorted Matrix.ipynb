{
 "cells": [
  {
   "cell_type": "markdown",
   "id": "67273875-6358-444f-accf-01c14ee8786a",
   "metadata": {},
   "source": [
    "https://leetcode.com/problems/kth-smallest-element-in-a-sorted-matrix\n",
    "\n",
    "\n",
    "Runtime: 36 ms, faster than 63.04% of Go online submissions for Kth Smallest Element in a Sorted Matrix.\n",
    "Memory Usage: 7.1 MB, less than 8.70% of Go online submissions for Kth Smallest Element in a Sorted Matrix.\n",
    "\n",
    "\n",
    "\n",
    "```go\n",
    "package main\n",
    "\n",
    "import \"sort\"\n",
    "\n",
    "func kthSmallest(matrix [][]int, k int) int {\n",
    "\t//3:46\n",
    "\tnums := make([]int, 0)\n",
    "\tfor _, row := range matrix {\n",
    "\t\tfor _, num := range row {\n",
    "\t\t\tnums = append(nums, num)\n",
    "\t\t}\n",
    "\t}\n",
    "\tsort.Ints(nums)\n",
    "\treturn nums[k-1]\n",
    "\t//3:49\n",
    "}\n",
    "```"
   ]
  },
  {
   "cell_type": "code",
   "execution_count": null,
   "id": "3569151e-9760-41b6-8c9f-b52d96c949e1",
   "metadata": {},
   "outputs": [],
   "source": []
  }
 ],
 "metadata": {
  "kernelspec": {
   "display_name": "Go",
   "language": "go",
   "name": "gophernotes"
  },
  "language_info": {
   "codemirror_mode": "",
   "file_extension": ".go",
   "mimetype": "",
   "name": "go",
   "nbconvert_exporter": "",
   "pygments_lexer": "",
   "version": "go1.14.7"
  }
 },
 "nbformat": 4,
 "nbformat_minor": 5
}
