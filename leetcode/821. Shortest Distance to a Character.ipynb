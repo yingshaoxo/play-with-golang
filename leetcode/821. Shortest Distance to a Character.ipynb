{
 "cells": [
  {
   "cell_type": "markdown",
   "id": "864114f6-b60f-498a-9122-42f6a47be4d1",
   "metadata": {},
   "source": [
    "https://leetcode.com/problems/shortest-distance-to-a-character\n",
    "\n",
    "\n",
    "Runtime: 4 ms, faster than 100.00% of Go online submissions for Shortest Distance to a Character.\n",
    "Memory Usage: 2.5 MB, less than 5.71% of Go online submissions for Shortest Distance to a Character.\n",
    "\n",
    "\n",
    "```go\n",
    "package main\n",
    "\n",
    "import (\n",
    " \"fmt\"\n",
    " \"math\"\n",
    ")\n",
    "\n",
    "func shortestToChar(s string, c byte) []int {\n",
    " //4:12\n",
    " var my_c = rune(c)\n",
    " var target_list = make([]int, 0)\n",
    " for index, char := range s {\n",
    "  if char == my_c {\n",
    "   target_list = append(target_list, index)\n",
    "  }\n",
    " }\n",
    " var result = make([]int, 0)\n",
    " for index, _ := range s {\n",
    "  min := math.MaxInt32\n",
    "  for _, target := range target_list {\n",
    "   temp := int(math.Abs(float64((target - index))))\n",
    "   if temp < min {\n",
    "    min = temp\n",
    "   }\n",
    "  }\n",
    "  result = append(result, min)\n",
    " }\n",
    " return result\n",
    " //4:22\n",
    "}\n",
    "```"
   ]
  },
  {
   "cell_type": "code",
   "execution_count": null,
   "id": "f05db428-6bf1-4a6d-babd-0106aed83833",
   "metadata": {},
   "outputs": [],
   "source": []
  }
 ],
 "metadata": {
  "kernelspec": {
   "display_name": "Go",
   "language": "go",
   "name": "gophernotes"
  },
  "language_info": {
   "codemirror_mode": "",
   "file_extension": ".go",
   "mimetype": "",
   "name": "go",
   "nbconvert_exporter": "",
   "pygments_lexer": "",
   "version": "go1.15.4"
  }
 },
 "nbformat": 4,
 "nbformat_minor": 5
}
