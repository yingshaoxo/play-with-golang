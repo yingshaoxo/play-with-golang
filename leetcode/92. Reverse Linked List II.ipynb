{
 "cells": [
  {
   "cell_type": "markdown",
   "id": "4b7f6845-2a25-4e7e-bac0-2f4592acd8bf",
   "metadata": {},
   "source": [
    "https://leetcode.com/problems/reverse-linked-list-ii\n",
    "\n",
    "\n",
    "Runtime: 0 ms, faster than 100.00% of Go online submissions for Reverse Linked List II.\n",
    "Memory Usage: 2.2 MB, less than 6.14% of Go online submissions for Reverse Linked List II.\n",
    "\n",
    "\n",
    "```go\n",
    "func reverse(numbers []*ListNode) {\n",
    "\tfor i, j := 0, len(numbers)-1; i < j; i, j = i+1, j-1 {\n",
    "\t\tnumbers[i], numbers[j] = numbers[j], numbers[i]\n",
    "\t}\n",
    "}\n",
    "\n",
    "func reverseBetween(head *ListNode, left int, right int) *ListNode {\n",
    "\t//8:24\n",
    "\tl := make([]*ListNode, 0)\n",
    "\tnode := head\n",
    "\tfor node != nil {\n",
    "\t\tl = append(l, node)\n",
    "        node = node.Next\n",
    "\t}\n",
    "\tleft -= 1\n",
    "\ta := l[0:left]\n",
    "\tb := l[left:right]\n",
    "\tc := l[right:]\n",
    "\treverse(b)\n",
    "\tnew_list := make([]*ListNode, 0)\n",
    "\tnew_list = append(new_list, a...)\n",
    "\tnew_list = append(new_list, b...)\n",
    "\tnew_list = append(new_list, c...)\n",
    "\n",
    "\tfor index, node := range new_list {\n",
    "\t\tif index < len(new_list)-1 {\n",
    "\t\t\tnode.Next = new_list[index+1]\n",
    "\t\t} else {\n",
    "\t\t\tnode.Next = nil\n",
    "\t\t}\n",
    "\t}\n",
    "\n",
    "\treturn new_list[0]\n",
    "\t//8:33\n",
    "}\n",
    "```"
   ]
  },
  {
   "cell_type": "code",
   "execution_count": null,
   "id": "16b0f211-fc8f-4679-859f-5b1b5602b9cc",
   "metadata": {},
   "outputs": [],
   "source": []
  }
 ],
 "metadata": {
  "kernelspec": {
   "display_name": "Go",
   "language": "go",
   "name": "gophernotes"
  },
  "language_info": {
   "codemirror_mode": "",
   "file_extension": ".go",
   "mimetype": "",
   "name": "go",
   "nbconvert_exporter": "",
   "pygments_lexer": "",
   "version": "go1.14.7"
  }
 },
 "nbformat": 4,
 "nbformat_minor": 5
}
