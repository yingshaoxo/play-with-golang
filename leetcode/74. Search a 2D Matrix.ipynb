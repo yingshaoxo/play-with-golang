{
 "cells": [
  {
   "cell_type": "markdown",
   "id": "22af8fa7-bbb0-454c-9414-61539ba01ffd",
   "metadata": {},
   "source": [
    "https://leetcode.com/problems/search-a-2d-matrix\n",
    "\n",
    "\n",
    "\n",
    "Runtime: 0 ms, faster than 100.00% of Go online submissions for Search a 2D Matrix.\n",
    "Memory Usage: 2.7 MB, less than 19.61% of Go online submissions for Search a 2D Matrix.\n",
    "\n",
    "\n",
    "\n",
    "```go\n",
    "package main\n",
    "\n",
    "func searchMatrix(matrix [][]int, target int) bool {\n",
    "\t//6:53\n",
    "\tfor index, row := range matrix {\n",
    "\t\tif index < len(matrix)-1 {\n",
    "\t\t\tif target >= row[0] && target < matrix[index+1][0] {\n",
    "\t\t\t\tfor _, num := range matrix[index] {\n",
    "\t\t\t\t\tif target == num {\n",
    "\t\t\t\t\t\treturn true\n",
    "\t\t\t\t\t}\n",
    "\t\t\t\t}\n",
    "\t\t\t}\n",
    "\t\t}\n",
    "\t}\n",
    "\tfor _, num := range matrix[len(matrix)-1] {\n",
    "\t\tif target == num {\n",
    "\t\t\treturn true\n",
    "\t\t}\n",
    "\t}\n",
    "\treturn false;\n",
    "\t//6:56\n",
    "    //debug until 7:00\n",
    "}\n",
    "```"
   ]
  },
  {
   "cell_type": "code",
   "execution_count": null,
   "id": "bb109e85-2b3e-42ba-90d9-7eb4670d9154",
   "metadata": {},
   "outputs": [],
   "source": []
  }
 ],
 "metadata": {
  "kernelspec": {
   "display_name": "Go",
   "language": "go",
   "name": "gophernotes"
  },
  "language_info": {
   "codemirror_mode": "",
   "file_extension": ".go",
   "mimetype": "",
   "name": "go",
   "nbconvert_exporter": "",
   "pygments_lexer": "",
   "version": "go1.14.7"
  }
 },
 "nbformat": 4,
 "nbformat_minor": 5
}
