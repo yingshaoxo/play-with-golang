{
 "cells": [
  {
   "cell_type": "markdown",
   "id": "adolescent-nancy",
   "metadata": {},
   "source": [
    "https://leetcode.com/problems/increasing-order-search-tree\n",
    "\n",
    "\n",
    "Runtime: 0 ms, faster than 100.00% of Go online submissions for Increasing Order Search Tree.\n",
    "Memory Usage: 2.6 MB, less than 54.10% of Go online submissions for Increasing Order Search Tree.\n",
    "\n",
    "\n",
    "```go\n",
    "package main\n",
    "\n",
    "import (\n",
    "\t\"fmt\"\n",
    ")\n",
    "\n",
    "var new_arr = make([]int, 0)\n",
    "\n",
    "func increasingBST(root *TreeNode) *TreeNode {\n",
    "\t//6:30\n",
    "\tnew_arr = new_arr[:0]\n",
    "\ttravel(root)\n",
    "\tnode := &TreeNode{Val: 0}\n",
    "    root = node\n",
    "\tfor _, val := range new_arr {\n",
    "\t\tnode.Right = &TreeNode{Val: val} \n",
    "        node.Left = nil\n",
    "        node = node.Right\n",
    "\t}\n",
    "\treturn root.Right\n",
    "\t//6:39\n",
    "    //debug until 7:05\n",
    "}\n",
    "\n",
    "func travel(node *TreeNode) {\n",
    "\tif node != nil {\n",
    "\t\ttravel(node.Left)\n",
    "\t\tnew_arr = append(new_arr, node.Val)\n",
    "        //fmt.Println(node.Val)\n",
    "\t\ttravel(node.Right)\n",
    "\t}\n",
    "}\n",
    "```"
   ]
  },
  {
   "cell_type": "code",
   "execution_count": null,
   "id": "southern-sunday",
   "metadata": {},
   "outputs": [],
   "source": []
  }
 ],
 "metadata": {
  "kernelspec": {
   "display_name": "Go",
   "language": "go",
   "name": "gophernotes"
  },
  "language_info": {
   "codemirror_mode": "",
   "file_extension": ".go",
   "mimetype": "",
   "name": "go",
   "nbconvert_exporter": "",
   "pygments_lexer": "",
   "version": "go1.15.4"
  }
 },
 "nbformat": 4,
 "nbformat_minor": 5
}
