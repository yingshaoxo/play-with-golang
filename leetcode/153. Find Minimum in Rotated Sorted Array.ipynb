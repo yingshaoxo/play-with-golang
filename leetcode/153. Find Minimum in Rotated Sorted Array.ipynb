{
 "cells": [
  {
   "cell_type": "markdown",
   "id": "818326dc-a7e2-4194-8c31-7c729625d3d6",
   "metadata": {},
   "source": [
    "https://leetcode.com/problems/find-minimum-in-rotated-sorted-array\n",
    "\n",
    "\n",
    "Runtime: 0 ms, faster than 100.00% of Go online submissions for Find Minimum in Rotated Sorted Array.\n",
    "Memory Usage: 2.5 MB, less than 13.09% of Go online submissions for Find Minimum in Rotated Sorted Array.\n",
    "\n",
    "\n",
    "\n",
    "```go\n",
    "package main\n",
    "\n",
    "func findMin(nums []int) int {\n",
    "\t//7:12\n",
    "\tmin_value := nums[0]\n",
    "\tfor _,n := range nums {\n",
    "\t\tif n < min_value {\n",
    "\t\t\tmin_value = n\n",
    "\t\t}\n",
    "\t}\n",
    "\treturn min_value\n",
    "\t//7:13\n",
    "    //debug until 7:20\n",
    "}\n",
    "```"
   ]
  },
  {
   "cell_type": "code",
   "execution_count": null,
   "id": "8c994510-62d6-40a2-9f3c-7886937a3b26",
   "metadata": {},
   "outputs": [],
   "source": []
  }
 ],
 "metadata": {
  "kernelspec": {
   "display_name": "Go",
   "language": "go",
   "name": "gophernotes"
  },
  "language_info": {
   "codemirror_mode": "",
   "file_extension": ".go",
   "mimetype": "",
   "name": "go",
   "nbconvert_exporter": "",
   "pygments_lexer": "",
   "version": "go1.14.7"
  }
 },
 "nbformat": 4,
 "nbformat_minor": 5
}
