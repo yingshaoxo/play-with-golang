{
 "cells": [
  {
   "cell_type": "markdown",
   "id": "respiratory-compatibility",
   "metadata": {},
   "source": [
    "https://leetcode.com/problems/flipping-an-image\n",
    "\n",
    "\n",
    "Runtime: 0 ms, faster than 100.00% of Go online submissions for Flipping an Image.\n",
    "Memory Usage: 2.8 MB, less than 26.53% of Go online submissions for Flipping an Image.\n",
    "\n",
    "\n",
    "\n",
    "```go\n",
    "package main\n",
    "\n",
    "import (\n",
    "\t\"fmt\"\n",
    ")\n",
    "\n",
    "func flipAndInvertImage(image [][]int) [][]int {\n",
    "\t//6:40\n",
    "\tfor index, row := range image {\n",
    "\t\tfor i, j := 0, len(row)-1; i < j; i, j = i+1, j-1 {\n",
    "\t\t\trow[i], row[j] = row[j], row[i]\n",
    "\t\t}\n",
    "\t\tfor i := 0; i < len(row); i++ {\n",
    "\t\t\trow[i] ^= 1\n",
    "\t\t}\n",
    "\t\timage[index] = row\n",
    "\t}\n",
    "\treturn image\n",
    "\t//7:00\n",
    "\t//debug from 10:40 to 10:46\n",
    "}\n",
    "```"
   ]
  },
  {
   "cell_type": "code",
   "execution_count": null,
   "id": "fluid-questionnaire",
   "metadata": {},
   "outputs": [],
   "source": []
  }
 ],
 "metadata": {
  "kernelspec": {
   "display_name": "Go",
   "language": "go",
   "name": "gophernotes"
  },
  "language_info": {
   "codemirror_mode": "",
   "file_extension": ".go",
   "mimetype": "",
   "name": "go",
   "nbconvert_exporter": "",
   "pygments_lexer": "",
   "version": "go1.15.4"
  }
 },
 "nbformat": 4,
 "nbformat_minor": 5
}
