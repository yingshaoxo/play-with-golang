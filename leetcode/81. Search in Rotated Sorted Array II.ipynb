{
 "cells": [
  {
   "cell_type": "markdown",
   "id": "9427dcbd-a70e-4df2-b766-1172ca951a79",
   "metadata": {},
   "source": [
    "https://leetcode.com/problems/search-in-rotated-sorted-array-ii\n",
    "\n",
    "\n",
    "Runtime: 12 ms, faster than 6.67% of Go online submissions for Search in Rotated Sorted Array II.\n",
    "Memory Usage: 3.4 MB, less than 22.67% of Go online submissions for Search in Rotated Sorted Array II.\n",
    "\n",
    "\n",
    "```go\n",
    "func search(nums []int, target int) bool {\n",
    "    for _, num := range nums {\n",
    "        if (target == num) {\n",
    "            return true\n",
    "        }\n",
    "    }\n",
    "    return false\n",
    "}\n",
    "```"
   ]
  },
  {
   "cell_type": "code",
   "execution_count": null,
   "id": "a1bad816-ee3b-4d96-8a81-d56cdd7264c3",
   "metadata": {},
   "outputs": [],
   "source": []
  }
 ],
 "metadata": {
  "kernelspec": {
   "display_name": "Go",
   "language": "go",
   "name": "gophernotes"
  },
  "language_info": {
   "codemirror_mode": "",
   "file_extension": ".go",
   "mimetype": "",
   "name": "go",
   "nbconvert_exporter": "",
   "pygments_lexer": "",
   "version": "go1.14.7"
  }
 },
 "nbformat": 4,
 "nbformat_minor": 5
}
