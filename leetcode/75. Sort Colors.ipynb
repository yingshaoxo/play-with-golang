{
 "cells": [
  {
   "cell_type": "markdown",
   "id": "described-slave",
   "metadata": {},
   "source": [
    "https://leetcode.com/problems/sort-colors\n",
    "\n",
    "\n",
    "Runtime: 0 ms, faster than 100.00% of Go online submissions for Sort Colors.\n",
    "Memory Usage: 2.1 MB, less than 72.16% of Go online submissions for Sort Colors.\n",
    "\n",
    "\n",
    "```go\n",
    "func sortColors(nums []int)  {\n",
    "    sort.Ints(nums)\n",
    "}\n",
    "```"
   ]
  },
  {
   "cell_type": "code",
   "execution_count": null,
   "id": "statewide-championship",
   "metadata": {},
   "outputs": [],
   "source": []
  }
 ],
 "metadata": {
  "kernelspec": {
   "display_name": "Go",
   "language": "go",
   "name": "gophernotes"
  },
  "language_info": {
   "codemirror_mode": "",
   "file_extension": ".go",
   "mimetype": "",
   "name": "go",
   "nbconvert_exporter": "",
   "pygments_lexer": "",
   "version": "go1.15.4"
  }
 },
 "nbformat": 4,
 "nbformat_minor": 5
}
